{
  "nbformat": 4,
  "nbformat_minor": 0,
  "metadata": {
    "colab": {
      "provenance": [],
      "toc_visible": true,
      "mount_file_id": "1QbnzrdzodtbIiXGS2sC7oLur8_NKV_5a",
      "authorship_tag": "ABX9TyNsg3GcVFvbeUVyPxelhe7o",
      "include_colab_link": true
    },
    "kernelspec": {
      "name": "python3",
      "display_name": "Python 3"
    },
    "language_info": {
      "name": "python"
    }
  },
  "cells": [
    {
      "cell_type": "markdown",
      "metadata": {
        "id": "view-in-github",
        "colab_type": "text"
      },
      "source": [
        "<a href=\"https://colab.research.google.com/github/lohitkolluri/MLSA_Task/blob/main/Playing_with_Employee_Details.ipynb\" target=\"_parent\"><img src=\"https://colab.research.google.com/assets/colab-badge.svg\" alt=\"Open In Colab\"/></a>"
      ]
    },
    {
      "cell_type": "code",
      "source": [
        "import pandas as pd\n",
        "import numpy as np\n",
        "import matplotlib.pyplot as plt"
      ],
      "metadata": {
        "id": "Q_mW0hjdq0h-"
      },
      "execution_count": null,
      "outputs": []
    },
    {
      "cell_type": "code",
      "source": [
        "# Load the dataset\n",
        "data = pd.read_csv(\"/content/drive/My Drive/datasets/Employee_HR.csv\")"
      ],
      "metadata": {
        "id": "AJcOEdBurF6p"
      },
      "execution_count": null,
      "outputs": []
    },
    {
      "cell_type": "code",
      "source": [
        "# Calculate Variance, Standard Deviation, and IQR for Satisfaction in HR and Marketing\n",
        "hr_satisfaction_variance = data[data['Department'] == 'HR']['Satisfaction'].var()\n",
        "marketing_satisfaction_variance = data[data['Department'] == 'Marketing']['Satisfaction'].var()\n",
        "\n",
        "hr_satisfaction_stddev = data[data['Department'] == 'HR']['Satisfaction'].std()\n",
        "marketing_satisfaction_stddev = data[data['Department'] == 'Marketing']['Satisfaction'].std()\n",
        "\n",
        "hr_satisfaction_iqr = data[data['Department'] == 'HR']['Satisfaction'].quantile(0.75) - data[data['Department'] == 'HR']['Satisfaction'].quantile(0.25)\n",
        "marketing_satisfaction_iqr = data[data['Department'] == 'Marketing']['Satisfaction'].quantile(0.75) - data[data['Department'] == 'Marketing']['Satisfaction'].quantile(0.25)\n"
      ],
      "metadata": {
        "id": "kTEbMd2prRZe"
      },
      "execution_count": null,
      "outputs": []
    },
    {
      "cell_type": "code",
      "source": [
        "# Calculate Range of Evaluation in the IT department\n",
        "it_evaluation_range = data[data['Department'] == 'IT']['Evaluation'].max() - data[data['Department'] == 'IT']['Evaluation'].min()"
      ],
      "metadata": {
        "id": "IEOgpH7GrY1N"
      },
      "execution_count": null,
      "outputs": []
    },
    {
      "cell_type": "code",
      "source": [
        "# Create a Boxplot for Evaluation by Department\n",
        "plt.figure(figsize=(10, 6))\n",
        "data.boxplot(column='Evaluation', by='Department', grid=False)\n",
        "plt.title(\"Boxplot of Evaluation by Department\")\n",
        "plt.xlabel(\"Department\")\n",
        "plt.ylabel(\"Evaluation\")\n",
        "plt.show()"
      ],
      "metadata": {
        "id": "8WfrTktJra9z"
      },
      "execution_count": null,
      "outputs": []
    },
    {
      "cell_type": "code",
      "source": [
        "# Find Feature with the Highest Standard Deviation in the dataset\n",
        "std_deviation = data.std()\n",
        "highest_std_dev_feature = std_deviation.idxmax()\n",
        "\n",
        "print(\"HR Satisfaction Variance:\", hr_satisfaction_variance)\n",
        "print(\"Marketing Satisfaction Variance:\", marketing_satisfaction_variance)\n",
        "print(\"HR Satisfaction Standard Deviation:\", hr_satisfaction_stddev)\n",
        "print(\"Marketing Satisfaction Standard Deviation:\", marketing_satisfaction_stddev)\n",
        "print(\"HR Satisfaction IQR:\", hr_satisfaction_iqr)\n",
        "print(\"Marketing Satisfaction IQR:\", marketing_satisfaction_iqr)\n",
        "print(\"Range of Evaluation in IT Department:\", it_evaluation_range)\n",
        "print(\"Feature with the Highest Standard Deviation:\", highest_std_dev_feature)"
      ],
      "metadata": {
        "id": "kmNCDegoreeM"
      },
      "execution_count": null,
      "outputs": []
    }
  ]
}